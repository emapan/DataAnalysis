{
 "cells": [
  {
   "cell_type": "code",
   "execution_count": 1,
   "metadata": {},
   "outputs": [],
   "source": [
    "# 导入库\n",
    "import time  \n",
    "import numpy as np  \n",
    "import pandas as pd \n",
    "from datetime import datetime"
   ]
  },
  {
   "cell_type": "code",
   "execution_count": 2,
   "metadata": {},
   "outputs": [],
   "source": [
    "# 基本状态查看\n",
    "def stats_summary(df):\n",
    "    '''\n",
    "    查看数据集的记录数、维度数、前2条数据、描述性统计和数据类型\n",
    "    :param df: 数据框\n",
    "    :return: 无\n",
    "    '''\n",
    "    print('Data Overview:')\n",
    "    print('Records: {0}\\tDimension：{1}'.format(df.shape[0], df.shape[1]))  # 打印数据形状\n",
    "    print('-' * 30)\n",
    "    print('The first two rows:')\n",
    "    print(df.head(2))    # 输出前2条数据\n",
    "    print('-' * 30)\n",
    "    print('Data Desc:')\n",
    "    print(df.describe(include='all'))  # 输出数据描述性统计信息\n",
    "    print('-' * 30)\n",
    "    print('Data Dtypes:')\n",
    "    print(df.dtypes)      # 输出数据类型\n",
    "    print('-' * 60)"
   ]
  },
  {
   "cell_type": "code",
   "execution_count": 3,
   "metadata": {},
   "outputs": [
    {
     "name": "stdout",
     "output_type": "stream",
     "text": [
      "Data Overview:\n",
      "Records: 86135\tDimension：4\n",
      "------------------------------\n",
      "The first two rows:\n",
      "   USERID   ORDERDATE     ORDERID  AMOUNTINFO\n",
      "0  142074  2016-01-01  4196439032      9399.0\n",
      "1   56927  2016-01-01  4198324983      8799.0\n",
      "------------------------------\n",
      "Data Desc:\n",
      "               USERID   ORDERDATE       ORDERID    AMOUNTINFO\n",
      "count    86135.000000       86133  8.613500e+04  86127.000000\n",
      "unique            NaN         347           NaN           NaN\n",
      "top               NaN  2016-04-18           NaN           NaN\n",
      "freq              NaN         300           NaN           NaN\n",
      "mean    108059.642782         NaN  4.137051e+09    744.705249\n",
      "std      32866.109087         NaN  1.238664e+08   1425.211176\n",
      "min      51220.000000         NaN  3.002478e+09      0.500000\n",
      "25%      79565.500000         NaN  4.114637e+09     13.000000\n",
      "50%     108072.000000         NaN  4.190615e+09     59.000000\n",
      "75%     136378.000000         NaN  4.196161e+09    629.000000\n",
      "max     165100.000000         NaN  4.203330e+09  30999.000000\n",
      "------------------------------\n",
      "Data Dtypes:\n",
      "USERID          int64\n",
      "ORDERDATE      object\n",
      "ORDERID         int64\n",
      "AMOUNTINFO    float64\n",
      "dtype: object\n",
      "------------------------------------------------------------\n"
     ]
    }
   ],
   "source": [
    "# 读取数据文件\n",
    "raw_data = pd.read_csv('sales.csv')  \n",
    "stats_summary(raw_data)"
   ]
  },
  {
   "cell_type": "code",
   "execution_count": 5,
   "metadata": {},
   "outputs": [
    {
     "name": "stdout",
     "output_type": "stream",
     "text": [
      "Total number of NA lines is: 10\n",
      "       USERID   ORDERDATE     ORDERID  AMOUNTINFO\n",
      "20      75849  2016-01-01  4197103430         NaN\n",
      "72     103714         NaN  4136159682       189.0\n",
      "114    155209  2016-01-01  4177940815         NaN\n",
      "229    139877         NaN  4111956196         6.3\n",
      "233     54599  2016-01-01  4119525205         NaN\n",
      "260     65456  2016-01-02  4195643356         NaN\n",
      "62134  122134  2016-09-21  3826649773         NaN\n",
      "70342  116995  2016-10-24  3981569421         NaN\n",
      "80110   98888  2016-12-06  3814398698         NaN\n",
      "86069  145951  2016-12-29  4139830098         NaN\n",
      "------------------------------\n",
      "Total number of duplicated lines is: 0\n",
      "(84342, 4)\n"
     ]
    }
   ],
   "source": [
    "# 缺失值查看\n",
    "na_lines = raw_data.isnull().any(axis=1)  # 查看每一行是否具有缺失值\n",
    "print('Total number of NA lines is: {0}'.format(na_lines.sum()))  # 查看具有缺失值的行总记录数\n",
    "print(raw_data[na_lines])  # 只查看具有缺失值的行信息\n",
    "\n",
    "# 重复值查看\n",
    "print('-' * 30)\n",
    "print('Total number of duplicated lines is: {0}'.format(raw_data.duplicated().sum()))  #重复出现的行记录（排除第一次出现）\n",
    "\n",
    "# 缺失值丢弃处理\n",
    "sales_data = raw_data.dropna()  # 丢弃带有缺失值的行记录\n",
    "\n",
    "# 异常值丢弃处理\n",
    "sales_data = sales_data[sales_data['AMOUNTINFO'] > 1]  # 丢弃订单金额<=1的记录\n",
    "\n",
    "print(sales_data.shape)"
   ]
  },
  {
   "cell_type": "code",
   "execution_count": 6,
   "metadata": {},
   "outputs": [
    {
     "name": "stdout",
     "output_type": "stream",
     "text": [
      "2016-12-29 00:00:00 2016-01-01 00:00:00\n"
     ]
    }
   ],
   "source": [
    "# 日期格式转换\n",
    "sales_data['ORDERDATE'] = pd.to_datetime(sales_data['ORDERDATE'], format='%Y-%m-%d')  # 将字符串转换为日期格式\n",
    "print(max(sales_data['ORDERDATE']),min(sales_data['ORDERDATE']))"
   ]
  },
  {
   "cell_type": "code",
   "execution_count": 7,
   "metadata": {},
   "outputs": [
    {
     "name": "stdout",
     "output_type": "stream",
     "text": [
      "RFM Separate Score Overview:\n",
      "        r_score  f_score  m_score\n",
      "USERID                           \n",
      "51220         4        1        1\n",
      "51221         2        1        1\n",
      "51224         3        1        1\n",
      "51225         4        1        1\n",
      "51226         1        1        1\n"
     ]
    }
   ],
   "source": [
    "# 数据转换\n",
    "recency_value = sales_data['ORDERDATE'].groupby(sales_data.USERID).max()      # 计算每用户最近一次订单时间\n",
    "frequency_value = sales_data['ORDERDATE'].groupby(sales_data.USERID).count()  # 计算每用户订单频率\n",
    "monetary_value = sales_data['AMOUNTINFO'].groupby(sales_data.USERID).sum()    # 计算每用户订单总金额\n",
    "\n",
    "# 分别计算R、F、M得分\n",
    "deadline_date = datetime(2017, 1, 1)  # 指定一个时间节点，用于计算其他时间与该时间的距离\n",
    "r_interval = (deadline_date - recency_value).dt.days  # 计算R间隔\n",
    "r_score = pd.cut(r_interval, 5, labels=[5, 4, 3, 2, 1])       # 计算R得分，等距分段\n",
    "f_score = pd.cut(frequency_value, 5, labels=[1, 2, 3, 4, 5])  # 计算F得分，等距分段\n",
    "m_score = pd.cut(monetary_value, 5, labels=[1, 2, 3, 4, 5])   # 计算M得分，等距分段\n",
    "\n",
    "# R、F、M数据合并\n",
    "rfm_list = [r_score, f_score, m_score]  \n",
    "rfm_cols = ['r_score', 'f_score', 'm_score']  \n",
    "rfm_df = pd.DataFrame(np.array(rfm_list).transpose(), columns=rfm_cols,\n",
    "                      index=recency_value.index)  \n",
    "\n",
    "print('RFM Separate Score Overview:')\n",
    "print(rfm_df.head())"
   ]
  },
  {
   "cell_type": "code",
   "execution_count": 8,
   "metadata": {},
   "outputs": [
    {
     "name": "stdout",
     "output_type": "stream",
     "text": [
      "RFM Total Score Overview :\n",
      "        r_score  f_score  m_score  rfm_wscore rfm_comb\n",
      "USERID                                                \n",
      "51220         4        1        1         2.2      411\n",
      "51221         2        1        1         1.4      211\n",
      "51224         3        1        1         1.8      311\n",
      "51225         4        1        1         2.2      411\n",
      "51226         1        1        1         1.0      111\n"
     ]
    }
   ],
   "source": [
    "# 计算RFM总得分\n",
    "# 方法一：加权得分\n",
    "rfm_df['rfm_wscore'] = rfm_df['r_score'] * 0.4 + rfm_df['f_score'] * 0.4 + rfm_df['m_score'] * 0.2\n",
    "# 方法二：RFM组合\n",
    "rfm_df_tmp = rfm_df.copy()\n",
    "rfm_df_tmp['r_score'] = rfm_df_tmp['r_score'].astype(str)\n",
    "rfm_df_tmp['f_score'] = rfm_df_tmp['f_score'].astype(str)\n",
    "rfm_df_tmp['m_score'] = rfm_df_tmp['m_score'].astype(str)\n",
    "rfm_df['rfm_comb'] = rfm_df_tmp['r_score'].str.cat(rfm_df_tmp['f_score']).str.cat(rfm_df_tmp['m_score'])\n",
    "\n",
    "print('RFM Total Score Overview :')\n",
    "print(rfm_df.head())\n",
    "\n",
    "# 保存RFM得分到本地文件\n",
    "rfm_df.to_csv('sales_rfm_score.csv')  # 保存数据为csv"
   ]
  },
  {
   "cell_type": "code",
   "execution_count": null,
   "metadata": {},
   "outputs": [],
   "source": []
  }
 ],
 "metadata": {
  "kernelspec": {
   "display_name": "Python 3",
   "language": "python",
   "name": "python3"
  },
  "language_info": {
   "codemirror_mode": {
    "name": "ipython",
    "version": 3
   },
   "file_extension": ".py",
   "mimetype": "text/x-python",
   "name": "python",
   "nbconvert_exporter": "python",
   "pygments_lexer": "ipython3",
   "version": "3.7.6"
  }
 },
 "nbformat": 4,
 "nbformat_minor": 4
}
